{
 "cells": [
  {
   "cell_type": "markdown",
   "id": "c9b787a0",
   "metadata": {},
   "source": [
    "## Question 1: Program to Check if a Number is positive, negative, or zero."
   ]
  },
  {
   "cell_type": "code",
   "execution_count": 17,
   "id": "661865ee",
   "metadata": {},
   "outputs": [
    {
     "name": "stdout",
     "output_type": "stream",
     "text": [
      "The Number is Negative!\n"
     ]
    }
   ],
   "source": [
    "number = -8\n",
    "if number > 0:\n",
    "    print(\"The Number is Positive!\")\n",
    "elif number < 0:\n",
    "    print(\"The Number is Negative!\")\n",
    "elif number == 0:\n",
    "    print(\"The Number is Zero!\")"
   ]
  },
  {
   "cell_type": "markdown",
   "id": "e6e8b652",
   "metadata": {},
   "source": [
    "## Question 2: Program to determine whether a given year is a leap year."
   ]
  },
  {
   "cell_type": "code",
   "execution_count": 29,
   "id": "3e00f11e",
   "metadata": {},
   "outputs": [
    {
     "name": "stdout",
     "output_type": "stream",
     "text": [
      "It is not a leap year!\n"
     ]
    }
   ],
   "source": [
    "Year = 365\n",
    "if Year == 366:\n",
    "    print(\"It is a leap year!\")\n",
    "elif Year == 365:\n",
    "    print(\"It is not a leap year!\")\n",
    "else:\n",
    "    print(\"invalid\")"
   ]
  },
  {
   "cell_type": "markdown",
   "id": "1c8a2273",
   "metadata": {},
   "source": [
    "## Question 4: Python program that accepts a student's marks and prints the appropriate grade based on the following criteria:"
   ]
  },
  {
   "cell_type": "code",
   "execution_count": 1,
   "id": "7add992b",
   "metadata": {
    "scrolled": true
   },
   "outputs": [
    {
     "name": "stdout",
     "output_type": "stream",
     "text": [
      "Grade:B\n"
     ]
    }
   ],
   "source": [
    "student_marks = 76\n",
    "if student_marks >= 85:\n",
    "    print(\"Grade:A\")\n",
    "elif student_marks >= 70:\n",
    "    print(\"Grade:B\")\n",
    "elif student_marks >= 50:\n",
    "    print(\"Grade:C\")\n",
    "else:\n",
    "    print(\"Grade:F\")"
   ]
  },
  {
   "cell_type": "code",
   "execution_count": null,
   "id": "4de6712f-5fd5-4d7b-a88f-a1d56dde3111",
   "metadata": {},
   "outputs": [],
   "source": []
  }
 ],
 "metadata": {
  "kernelspec": {
   "display_name": "Python [conda env:base] *",
   "language": "python",
   "name": "conda-base-py"
  },
  "language_info": {
   "codemirror_mode": {
    "name": "ipython",
    "version": 3
   },
   "file_extension": ".py",
   "mimetype": "text/x-python",
   "name": "python",
   "nbconvert_exporter": "python",
   "pygments_lexer": "ipython3",
   "version": "3.12.7"
  }
 },
 "nbformat": 4,
 "nbformat_minor": 5
}
